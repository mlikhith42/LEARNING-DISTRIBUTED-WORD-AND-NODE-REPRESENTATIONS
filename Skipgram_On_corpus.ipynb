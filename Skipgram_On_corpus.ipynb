{
  "nbformat": 4,
  "nbformat_minor": 0,
  "metadata": {
    "colab": {
      "name": "Skipgram_On_corpus.ipynb",
      "provenance": [],
      "collapsed_sections": []
    },
    "kernelspec": {
      "name": "python3",
      "display_name": "Python 3"
    },
    "language_info": {
      "name": "python"
    }
  },
  "cells": [
    {
      "cell_type": "code",
      "metadata": {
        "id": "gFXJshviJfOT"
      },
      "source": [
        "corpus = [\n",
        "    'I went yesterday'   ,\n",
        "    'I will go today',\n",
        "\n",
        "    'he is my brother',\n",
        "    'she is my sister', \n",
        "    'he is a boy',\n",
        "    'she is a girl',\n",
        "\n",
        "    'dominos pizza is famous. ',\n",
        "    'mcdonals burger is famous ',\n",
        "    \n",
        "    'delhi is india capital',\n",
        "    'beijing is china capital',\n",
        "    'paris is france capital', ]"
      ],
      "execution_count": null,
      "outputs": []
    },
    {
      "cell_type": "code",
      "metadata": {
        "colab": {
          "base_uri": "https://localhost:8080/"
        },
        "id": "9YkwKwc4QDMP",
        "outputId": "8adee7cb-f49b-4fdd-b9f0-bd6c19d3fc57"
      },
      "source": [
        "corpus[0].split( )"
      ],
      "execution_count": null,
      "outputs": [
        {
          "output_type": "execute_result",
          "data": {
            "text/plain": [
              "['I', 'went', 'yesterday']"
            ]
          },
          "metadata": {
            "tags": []
          },
          "execution_count": 2
        }
      ]
    },
    {
      "cell_type": "code",
      "metadata": {
        "id": "tz4VWy7PP4x0"
      },
      "source": [
        "X=[]\n",
        "for i in corpus:\n",
        "  X.append(i.split( ))"
      ],
      "execution_count": null,
      "outputs": []
    },
    {
      "cell_type": "code",
      "metadata": {
        "colab": {
          "base_uri": "https://localhost:8080/"
        },
        "id": "CV-1inIRQNW7",
        "outputId": "669df824-d6d7-450b-afbe-9a8ae2544d42"
      },
      "source": [
        "X"
      ],
      "execution_count": null,
      "outputs": [
        {
          "output_type": "execute_result",
          "data": {
            "text/plain": [
              "[['I', 'went', 'yesterday'],\n",
              " ['I', 'will', 'go', 'today'],\n",
              " ['he', 'is', 'my', 'brother'],\n",
              " ['she', 'is', 'my', 'sister'],\n",
              " ['he', 'is', 'a', 'boy'],\n",
              " ['she', 'is', 'a', 'girl'],\n",
              " ['dominos', 'pizza', 'is', 'famous.'],\n",
              " ['mcdonals', 'burger', 'is', 'famous'],\n",
              " ['delhi', 'is', 'india', 'capital'],\n",
              " ['beijing', 'is', 'china', 'capital'],\n",
              " ['paris', 'is', 'france', 'capital']]"
            ]
          },
          "metadata": {
            "tags": []
          },
          "execution_count": 4
        }
      ]
    },
    {
      "cell_type": "markdown",
      "metadata": {
        "id": "KmEQnXKFvgVR"
      },
      "source": [
        "### generate vocabulary"
      ]
    },
    {
      "cell_type": "code",
      "metadata": {
        "id": "fVEWpAH0Pqgm"
      },
      "source": [
        "class Vocabulary:\n",
        "  def __init__(self):\n",
        "    self.word2index = {}\n",
        "    self.word2count = {}\n",
        "    self.index2word = {}\n",
        "    self.num_words = 0\n",
        "    self.num_sentences = 0\n",
        "    self.longest_sentence = 0\n",
        "\n",
        "  def add_word(self, word):\n",
        "    if word not in self.word2index:\n",
        "        self.word2index[word] = self.num_words\n",
        "        self.word2count[word] = 1\n",
        "        self.index2word[self.num_words] = word\n",
        "        self.num_words += 1\n",
        "    else:\n",
        "        # Word exists; increase word count\n",
        "        self.word2count[word] += 1\n",
        "            \n",
        "  def add_sentence(self, sentence):\n",
        "    sentence_len = 0\n",
        "    sentence_len +=1\n",
        "    for word in sentence:\n",
        "        sentence_len += 1\n",
        "        self.add_word(word)                                 #remove if padded before\n",
        "    sentence_len +=1    \n",
        "    if sentence_len > self.longest_sentence:\n",
        "        # This is the longest sentence\n",
        "        self.longest_sentence = sentence_len\n",
        "    # Count the number of sentences\n",
        "    self.num_sentences += 1\n",
        "        \n",
        "\n",
        "  def seq_to_seq(self,sentence):\n",
        "    temp=[]   \n",
        "    for word in sentence:\n",
        "      # print(word)\n",
        "      temp.append(self.to_index(word))                                           #remove if padded before\n",
        "    return temp\n",
        "\n",
        "  def to_word(self, index):\n",
        "    return self.index2word[index]\n",
        "\n",
        "  def to_index(self, word):\n",
        "    return self.word2index[word]"
      ],
      "execution_count": null,
      "outputs": []
    },
    {
      "cell_type": "code",
      "metadata": {
        "colab": {
          "base_uri": "https://localhost:8080/"
        },
        "id": "eVR3TL-MQU3S",
        "outputId": "48412e06-a0e9-4651-d2b2-7a9498286b0d"
      },
      "source": [
        "v=Vocabulary()\n",
        "corpus_index=[]\n",
        "for i in range(len(X)):\n",
        "  v.add_sentence(X[i])\n",
        "  corpus_index.append(v.seq_to_seq(X[i]))\n",
        "corpus_dict=v.word2count\n",
        "corpus_dict=sorted(corpus_dict.items(), key=lambda x: x[1],reverse=True)\n",
        "print(corpus_dict)  "
      ],
      "execution_count": null,
      "outputs": [
        {
          "output_type": "stream",
          "text": [
            "[('is', 9), ('capital', 3), ('I', 2), ('he', 2), ('my', 2), ('she', 2), ('a', 2), ('went', 1), ('yesterday', 1), ('will', 1), ('go', 1), ('today', 1), ('brother', 1), ('sister', 1), ('boy', 1), ('girl', 1), ('dominos', 1), ('pizza', 1), ('famous.', 1), ('mcdonals', 1), ('burger', 1), ('famous', 1), ('delhi', 1), ('india', 1), ('beijing', 1), ('china', 1), ('paris', 1), ('france', 1)]\n"
          ],
          "name": "stdout"
        }
      ]
    },
    {
      "cell_type": "code",
      "metadata": {
        "id": "wwP_6UI-2-U5"
      },
      "source": [
        "vocb_size=len(corpus_dict)"
      ],
      "execution_count": null,
      "outputs": []
    },
    {
      "cell_type": "markdown",
      "metadata": {
        "id": "jNunE_wJQx3Q"
      },
      "source": [
        "### one hot encoding"
      ]
    },
    {
      "cell_type": "code",
      "metadata": {
        "id": "AYlMEM1TVFwB"
      },
      "source": [
        "import numpy as np\n"
      ],
      "execution_count": null,
      "outputs": []
    },
    {
      "cell_type": "code",
      "metadata": {
        "id": "tfFWIoKxys2g",
        "colab": {
          "base_uri": "https://localhost:8080/"
        },
        "outputId": "461df110-a002-405c-d54b-af6656318d24"
      },
      "source": [
        "k=len(corpus_dict)\n",
        "vocab_one_hot=np.zeros((k,k))\n",
        "for i in range(len(corpus_dict)):\n",
        "  vocab_one_hot[i,v.to_index(corpus_dict[i][0])]=1\n",
        "print((vocab_one_hot[10]))"
      ],
      "execution_count": null,
      "outputs": [
        {
          "output_type": "stream",
          "text": [
            "[0. 0. 0. 0. 1. 0. 0. 0. 0. 0. 0. 0. 0. 0. 0. 0. 0. 0. 0. 0. 0. 0. 0. 0.\n",
            " 0. 0. 0. 0.]\n"
          ],
          "name": "stdout"
        }
      ]
    },
    {
      "cell_type": "markdown",
      "metadata": {
        "id": "wWw2phnw4Kib"
      },
      "source": [
        "### generate pairs"
      ]
    },
    {
      "cell_type": "code",
      "metadata": {
        "id": "XQYc_l9h4NSC"
      },
      "source": [
        "window_size=2\n",
        "input_pairs=[]\n",
        "for i in range(len(corpus_index)):\n",
        "  for cen in range(len(corpus_index[i])):\n",
        "    for j in range(-window_size,window_size+1):\n",
        "      if((cen+j)>=0 and (cen+j)<len(corpus_index[i]) and j!=0):\n",
        "        input_pairs.append((corpus_index[i][cen],corpus_index[i][cen+j]))\n"
      ],
      "execution_count": null,
      "outputs": []
    },
    {
      "cell_type": "code",
      "metadata": {
        "colab": {
          "base_uri": "https://localhost:8080/"
        },
        "id": "OeUqlutT4NXx",
        "outputId": "8f16012d-8377-45c7-937a-6f90f02a6739"
      },
      "source": [
        "input_word_pairs=[]\n",
        "for i in input_pairs:\n",
        "  input_word_pairs.append((v.to_word(i[0]),v.to_word(i[1])))\n",
        "print(input_word_pairs)"
      ],
      "execution_count": null,
      "outputs": [
        {
          "output_type": "stream",
          "text": [
            "[('I', 'went'), ('I', 'yesterday'), ('went', 'I'), ('went', 'yesterday'), ('yesterday', 'I'), ('yesterday', 'went'), ('I', 'will'), ('I', 'go'), ('will', 'I'), ('will', 'go'), ('will', 'today'), ('go', 'I'), ('go', 'will'), ('go', 'today'), ('today', 'will'), ('today', 'go'), ('he', 'is'), ('he', 'my'), ('is', 'he'), ('is', 'my'), ('is', 'brother'), ('my', 'he'), ('my', 'is'), ('my', 'brother'), ('brother', 'is'), ('brother', 'my'), ('she', 'is'), ('she', 'my'), ('is', 'she'), ('is', 'my'), ('is', 'sister'), ('my', 'she'), ('my', 'is'), ('my', 'sister'), ('sister', 'is'), ('sister', 'my'), ('he', 'is'), ('he', 'a'), ('is', 'he'), ('is', 'a'), ('is', 'boy'), ('a', 'he'), ('a', 'is'), ('a', 'boy'), ('boy', 'is'), ('boy', 'a'), ('she', 'is'), ('she', 'a'), ('is', 'she'), ('is', 'a'), ('is', 'girl'), ('a', 'she'), ('a', 'is'), ('a', 'girl'), ('girl', 'is'), ('girl', 'a'), ('dominos', 'pizza'), ('dominos', 'is'), ('pizza', 'dominos'), ('pizza', 'is'), ('pizza', 'famous.'), ('is', 'dominos'), ('is', 'pizza'), ('is', 'famous.'), ('famous.', 'pizza'), ('famous.', 'is'), ('mcdonals', 'burger'), ('mcdonals', 'is'), ('burger', 'mcdonals'), ('burger', 'is'), ('burger', 'famous'), ('is', 'mcdonals'), ('is', 'burger'), ('is', 'famous'), ('famous', 'burger'), ('famous', 'is'), ('delhi', 'is'), ('delhi', 'india'), ('is', 'delhi'), ('is', 'india'), ('is', 'capital'), ('india', 'delhi'), ('india', 'is'), ('india', 'capital'), ('capital', 'is'), ('capital', 'india'), ('beijing', 'is'), ('beijing', 'china'), ('is', 'beijing'), ('is', 'china'), ('is', 'capital'), ('china', 'beijing'), ('china', 'is'), ('china', 'capital'), ('capital', 'is'), ('capital', 'china'), ('paris', 'is'), ('paris', 'france'), ('is', 'paris'), ('is', 'france'), ('is', 'capital'), ('france', 'paris'), ('france', 'is'), ('france', 'capital'), ('capital', 'is'), ('capital', 'france')]\n"
          ],
          "name": "stdout"
        }
      ]
    },
    {
      "cell_type": "markdown",
      "metadata": {
        "id": "AyjhyhdW0Gm6"
      },
      "source": [
        "### model "
      ]
    },
    {
      "cell_type": "code",
      "metadata": {
        "id": "Hy64JYsw4Naa"
      },
      "source": [
        "import torch\n",
        "from torch.autograd import Variable\n",
        "import torch.functional as fun\n",
        "import torch.nn.functional as nn"
      ],
      "execution_count": null,
      "outputs": []
    },
    {
      "cell_type": "code",
      "metadata": {
        "id": "D3lLUswB1b1X"
      },
      "source": [
        "\n",
        "class skip_gram(object):\n",
        "  def __init__(self):\n",
        "    super().__init__()\n",
        "  \n",
        "    self.seed=1\n",
        "    self.learning_rate=0.001\n",
        "    self.vocab_size=vocb_size\n",
        "    self.latent_dim=12\n",
        "    self.neg_count=5\n",
        "    self.W1=Variable(torch.zeros(self.latent_dim,self.vocab_size).float(),requires_grad=True)\n",
        "    self.W2=Variable(torch.zeros(self.vocab_size,self.latent_dim).float(),requires_grad=True)\n",
        "    self.Z1=Variable(torch.zeros(self.latent_dim,1).float(),requires_grad=True)\n",
        "    self.Z2=Variable(torch.zeros(self.vocab_size,1).float(),requires_grad=True)\n",
        "    self.Y_pred=Variable(torch.zeros(self.vocab_size,1).float(),requires_grad=True)\n",
        "\n",
        "  def intialize(self) :\n",
        "    torch.random.manual_seed(self.seed)\n",
        "    self.W1=Variable(torch.randn(self.latent_dim,self.vocab_size).float(),requires_grad=True)\n",
        "    self.W2=Variable(torch.randn(self.vocab_size,self.latent_dim).float(),requires_grad=True)\n",
        "\n",
        "  def forward(self,X):\n",
        "    self.Z1=torch.matmul(self.W1,X)\n",
        "    self.Z2=torch.matmul(self.W2, self.Z1)\n",
        "    self.Y_pred = torch.nn.functional.log_softmax(self.Z2, dim=0)\n",
        "\n",
        "\n",
        "\n",
        "\n",
        "\n",
        "\n",
        "\n",
        "  def back_propagate(self,x,y):\n",
        "\n",
        "    loss_fun=nn.nll_loss(self.Y_pred.view(1,-1),y)\n",
        "    loss =loss_fun.data\n",
        "    loss_fun.backward()\n",
        "    \n",
        "    self.W1.data -= self.learning_rate * self.W1.grad.data\n",
        "    self.W2.data -= self.learning_rate * self.W2.grad.data\n",
        "\n",
        "    self.W1.grad.data.zero_()\n",
        "    self.W2.grad.data.zero_()\n",
        "    return loss\n",
        "\n",
        "  def similarity(self,a,b):\n",
        "    weights=self.W2\n",
        "    u=weights[a]\n",
        "    v=weights[b]\n",
        "    sim=torch.dot(v,u)/(torch.norm(v)*torch.norm(u))\n",
        "    return sim"
      ],
      "execution_count": null,
      "outputs": []
    },
    {
      "cell_type": "markdown",
      "metadata": {
        "id": "ddkiNT-crwMi"
      },
      "source": [
        "## train model"
      ]
    },
    {
      "cell_type": "code",
      "metadata": {
        "id": "u6eJ178q4NqJ"
      },
      "source": [
        "epochs=5000"
      ],
      "execution_count": null,
      "outputs": []
    },
    {
      "cell_type": "code",
      "metadata": {
        "id": "xDZ8KnO5ycxJ",
        "colab": {
          "base_uri": "https://localhost:8080/"
        },
        "outputId": "c4ae1be2-ecbb-4fbd-c5e3-abe5abc70ced"
      },
      "source": [
        "loss_list=[]\n",
        "import time\n",
        "start_time = time.time()\n",
        "\n",
        "model= skip_gram()\n",
        "model.intialize()\n",
        "\n",
        "for i in range(epochs):\n",
        "  losses=0\n",
        "  for word,context in input_pairs:\n",
        "    X=Variable(torch.from_numpy(np.array(vocab_one_hot[word]))).float()\n",
        "    y=Variable(torch.from_numpy(np.array([context]))).long()\n",
        "\n",
        "    model.forward(X)\n",
        "\n",
        "    losses += model.back_propagate(X,y)\n",
        "  loss_list.append(losses)  \n",
        "\n",
        "print(\"Total time taken =\",  ((time.time() - start_time)))\n",
        "\n"
      ],
      "execution_count": null,
      "outputs": [
        {
          "output_type": "stream",
          "text": [
            "Total time taken = 101.80388164520264\n"
          ],
          "name": "stdout"
        }
      ]
    },
    {
      "cell_type": "code",
      "metadata": {
        "colab": {
          "base_uri": "https://localhost:8080/",
          "height": 312
        },
        "id": "EkyOf6rlQDX0",
        "outputId": "b53a1ba0-9352-42f4-84fb-bdfadd466cce"
      },
      "source": [
        "import matplotlib.pyplot as plt\n",
        "plt.plot(range(len(loss_list)),loss_list)\n",
        "plt.title(\"epoch Vs Loss\")\n",
        "plt.xlabel(\"epochs\")\n",
        "plt.ylabel(\"loss\")"
      ],
      "execution_count": null,
      "outputs": [
        {
          "output_type": "execute_result",
          "data": {
            "text/plain": [
              "Text(0, 0.5, 'loss')"
            ]
          },
          "metadata": {
            "tags": []
          },
          "execution_count": 16
        },
        {
          "output_type": "display_data",
          "data": {
            "image/png": "[encoded data removed]",
            "text/plain": [
              "<Figure size 432x288 with 1 Axes>"
            ]
          },
          "metadata": {
            "tags": [],
            "needs_background": "light"
          }
        }
      ]
    },
    {
      "cell_type": "markdown",
      "metadata": {
        "id": "bi36QepKrzRX"
      },
      "source": [
        "## similarity of words"
      ]
    },
    {
      "cell_type": "code",
      "metadata": {
        "colab": {
          "base_uri": "https://localhost:8080/"
        },
        "id": "umgFMRv1yDJD",
        "outputId": "313ede4c-ec00-43a0-c402-6528e512cae6"
      },
      "source": [
        "print(v.to_index('brother'))\n",
        "print(v.to_index('boy'))\n",
        "print(v.to_index('sister'))\n",
        "print(v.to_index('girl'))\n"
      ],
      "execution_count": null,
      "outputs": [
        {
          "output_type": "stream",
          "text": [
            "9\n",
            "13\n",
            "11\n",
            "14\n"
          ],
          "name": "stdout"
        }
      ]
    },
    {
      "cell_type": "code",
      "metadata": {
        "colab": {
          "base_uri": "https://localhost:8080/"
        },
        "id": "ElADt9l3YWcy",
        "outputId": "2fe4dc79-900b-4175-aa82-dd19a3b3a6bb"
      },
      "source": [
        "score=model.similarity(9,13)\n",
        "print(\"similarity between (brother,boy) =\",score.item())\n",
        "score=model.similarity(11,14)\n",
        "print(\"similarity between (sister,girl) =\",score.item())"
      ],
      "execution_count": null,
      "outputs": [
        {
          "output_type": "stream",
          "text": [
            "similarity between (brother,boy) = 0.21565890312194824\n",
            "similarity between (sister,girl) = 0.23384687304496765\n"
          ],
          "name": "stdout"
        }
      ]
    },
    {
      "cell_type": "code",
      "metadata": {
        "colab": {
          "base_uri": "https://localhost:8080/"
        },
        "id": "8-xIAu8AyHZf",
        "outputId": "e68a00f9-2493-450d-f6a1-9000ea44b22d"
      },
      "source": [
        "# brother-boy+girl= sister\n",
        "new=model.W2[v.to_index('boy')]-model.W2[v.to_index('brother')]+model.W2[v.to_index('sister')]\n",
        "ori=model.W2[v.to_index('girl')]\n",
        "compare=torch.dot(new,ori)/(torch.norm(new)*torch.norm(ori))\n",
        "print(\"similarity between  (brother-boy+girl ,sister)\",compare.item())"
      ],
      "execution_count": null,
      "outputs": [
        {
          "output_type": "stream",
          "text": [
            "similarity between  (brother-boy+girl ,sister) 0.2639784812927246\n"
          ],
          "name": "stdout"
        }
      ]
    },
    {
      "cell_type": "code",
      "metadata": {
        "id": "euWk0m4ETH03"
      },
      "source": [
        ""
      ],
      "execution_count": null,
      "outputs": []
    }
  ]
}