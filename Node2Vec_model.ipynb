{
  "nbformat": 4,
  "nbformat_minor": 0,
  "metadata": {
    "colab": {
      "name": "Node2Vec_model.ipynb",
      "provenance": []
    },
    "kernelspec": {
      "display_name": "Python 3",
      "name": "python3"
    },
    "language_info": {
      "name": "python"
    }
  },
  "cells": [
    {
      "cell_type": "code",
      "metadata": {
        "colab": {
          "base_uri": "https://localhost:8080/"
        },
        "id": "eoyi5btttT6R",
        "outputId": "9b3bd5db-d02e-4839-f95d-08d644779b2e"
      },
      "source": [
        "from google.colab import drive\n",
        "drive.mount(\"/content/gdrive/\")\n"
      ],
      "execution_count": 1,
      "outputs": [
        {
          "output_type": "stream",
          "text": [
            "Drive already mounted at /content/gdrive/; to attempt to forcibly remount, call drive.mount(\"/content/gdrive/\", force_remount=True).\n"
          ],
          "name": "stdout"
        }
      ]
    },
    {
      "cell_type": "markdown",
      "metadata": {
        "id": "A_rZ_K9jbBwT"
      },
      "source": [
        "Reference for dataset\n",
        "\n",
        "\n",
        "@inproceedings{feather,\n",
        "               title={{Characteristic Functions on Graphs: Birds of a Feather, from Statistical Descriptors to Parametric Models}},\n",
        "               author={Benedek Rozemberczki and Rik Sarkar},\n",
        "               year={2020},\n",
        "\t       pages = {1325–1334},\n",
        "\t       booktitle={Proceedings of the 29th ACM International Conference on Information and Knowledge Management (CIKM '20)},\n",
        "\t       organization={ACM},\n",
        "}"
      ]
    },
    {
      "cell_type": "markdown",
      "metadata": {
        "id": "xARj36piawcV"
      },
      "source": [
        "### load facebook dataset"
      ]
    },
    {
      "cell_type": "code",
      "metadata": {
        "id": "1aQbozzraygE"
      },
      "source": [
        "import pandas as pd\n",
        "edges =pd.read_csv('/content/gdrive/MyDrive/ML/project/lasftm_asia/lasftm_asia/lastfm_asia_edges.csv')\n",
        "\n",
        "targets = pd.read_csv('/content/gdrive/MyDrive/ML/project/lasftm_asia/lasftm_asia/lastfm_asia_target.csv')"
      ],
      "execution_count": 2,
      "outputs": []
    },
    {
      "cell_type": "code",
      "metadata": {
        "colab": {
          "base_uri": "https://localhost:8080/",
          "height": 204
        },
        "id": "CE6doXCsbA-F",
        "outputId": "0176f950-4ccc-4a3a-b6a5-4be0cfa8fba7"
      },
      "source": [
        "targets.head()"
      ],
      "execution_count": 3,
      "outputs": [
        {
          "output_type": "execute_result",
          "data": {
            "text/html": [
              "<div>\n",
              "<style scoped>\n",
              "    .dataframe tbody tr th:only-of-type {\n",
              "        vertical-align: middle;\n",
              "    }\n",
              "\n",
              "    .dataframe tbody tr th {\n",
              "        vertical-align: top;\n",
              "    }\n",
              "\n",
              "    .dataframe thead th {\n",
              "        text-align: right;\n",
              "    }\n",
              "</style>\n",
              "<table border=\"1\" class=\"dataframe\">\n",
              "  <thead>\n",
              "    <tr style=\"text-align: right;\">\n",
              "      <th></th>\n",
              "      <th>id</th>\n",
              "      <th>target</th>\n",
              "    </tr>\n",
              "  </thead>\n",
              "  <tbody>\n",
              "    <tr>\n",
              "      <th>0</th>\n",
              "      <td>0</td>\n",
              "      <td>8</td>\n",
              "    </tr>\n",
              "    <tr>\n",
              "      <th>1</th>\n",
              "      <td>1</td>\n",
              "      <td>17</td>\n",
              "    </tr>\n",
              "    <tr>\n",
              "      <th>2</th>\n",
              "      <td>2</td>\n",
              "      <td>3</td>\n",
              "    </tr>\n",
              "    <tr>\n",
              "      <th>3</th>\n",
              "      <td>3</td>\n",
              "      <td>17</td>\n",
              "    </tr>\n",
              "    <tr>\n",
              "      <th>4</th>\n",
              "      <td>4</td>\n",
              "      <td>5</td>\n",
              "    </tr>\n",
              "  </tbody>\n",
              "</table>\n",
              "</div>"
            ],
            "text/plain": [
              "   id  target\n",
              "0   0       8\n",
              "1   1      17\n",
              "2   2       3\n",
              "3   3      17\n",
              "4   4       5"
            ]
          },
          "metadata": {
            "tags": []
          },
          "execution_count": 3
        }
      ]
    },
    {
      "cell_type": "code",
      "metadata": {
        "colab": {
          "base_uri": "https://localhost:8080/",
          "height": 204
        },
        "id": "FfmAS6akbBBH",
        "outputId": "21ca2e05-0900-42c8-da46-84170368f5fd"
      },
      "source": [
        "edges.head()"
      ],
      "execution_count": 4,
      "outputs": [
        {
          "output_type": "execute_result",
          "data": {
            "text/html": [
              "<div>\n",
              "<style scoped>\n",
              "    .dataframe tbody tr th:only-of-type {\n",
              "        vertical-align: middle;\n",
              "    }\n",
              "\n",
              "    .dataframe tbody tr th {\n",
              "        vertical-align: top;\n",
              "    }\n",
              "\n",
              "    .dataframe thead th {\n",
              "        text-align: right;\n",
              "    }\n",
              "</style>\n",
              "<table border=\"1\" class=\"dataframe\">\n",
              "  <thead>\n",
              "    <tr style=\"text-align: right;\">\n",
              "      <th></th>\n",
              "      <th>node_1</th>\n",
              "      <th>node_2</th>\n",
              "    </tr>\n",
              "  </thead>\n",
              "  <tbody>\n",
              "    <tr>\n",
              "      <th>0</th>\n",
              "      <td>0</td>\n",
              "      <td>747</td>\n",
              "    </tr>\n",
              "    <tr>\n",
              "      <th>1</th>\n",
              "      <td>1</td>\n",
              "      <td>4257</td>\n",
              "    </tr>\n",
              "    <tr>\n",
              "      <th>2</th>\n",
              "      <td>1</td>\n",
              "      <td>2194</td>\n",
              "    </tr>\n",
              "    <tr>\n",
              "      <th>3</th>\n",
              "      <td>1</td>\n",
              "      <td>580</td>\n",
              "    </tr>\n",
              "    <tr>\n",
              "      <th>4</th>\n",
              "      <td>1</td>\n",
              "      <td>6478</td>\n",
              "    </tr>\n",
              "  </tbody>\n",
              "</table>\n",
              "</div>"
            ],
            "text/plain": [
              "   node_1  node_2\n",
              "0       0     747\n",
              "1       1    4257\n",
              "2       1    2194\n",
              "3       1     580\n",
              "4       1    6478"
            ]
          },
          "metadata": {
            "tags": []
          },
          "execution_count": 4
        }
      ]
    },
    {
      "cell_type": "code",
      "metadata": {
        "colab": {
          "base_uri": "https://localhost:8080/"
        },
        "id": "oiJNY-xObBEZ",
        "outputId": "426accab-d49b-4599-f4d3-a4a60da73042"
      },
      "source": [
        "len(targets.target.unique())"
      ],
      "execution_count": 5,
      "outputs": [
        {
          "output_type": "execute_result",
          "data": {
            "text/plain": [
              "18"
            ]
          },
          "metadata": {
            "tags": []
          },
          "execution_count": 5
        }
      ]
    },
    {
      "cell_type": "markdown",
      "metadata": {
        "id": "9Wq7yWuH0YTG"
      },
      "source": [
        "## visualization of data"
      ]
    },
    {
      "cell_type": "code",
      "metadata": {
        "colab": {
          "base_uri": "https://localhost:8080/"
        },
        "id": "6nptsRsPh-tR",
        "outputId": "24e7220e-79fc-4a4c-e9cd-4585a3133a7a"
      },
      "source": [
        "import networkx as network\n",
        "network_graph = network.convert_matrix.from_pandas_edgelist(edges,\"node_1\",\"node_2\")\n",
        "total_nodes=network.number_of_nodes(network_graph)\n",
        "total_edges=network.number_of_edges(network_graph)\n",
        "print(\"total nodes=\",total_nodes,\" total edges=\",total_edges)"
      ],
      "execution_count": 6,
      "outputs": [
        {
          "output_type": "stream",
          "text": [
            "total nodes= 7624  total edges= 27806\n"
          ],
          "name": "stdout"
        }
      ]
    },
    {
      "cell_type": "code",
      "metadata": {
        "colab": {
          "base_uri": "https://localhost:8080/",
          "height": 248
        },
        "id": "3QsMn_dNr5zK",
        "outputId": "24204bbb-a008-4757-d446-5a6380333dbb"
      },
      "source": [
        "import random as r\n",
        "random_nodes = r.sample(network_graph.nodes, 30)\n",
        "subgraph=network_graph.subgraph(random_nodes)\n",
        "p=network.spring_layout(subgraph, seed=0)\n",
        "network.draw_networkx(subgraph, pos=p,cmap='coolwarm')"
      ],
      "execution_count": 7,
      "outputs": [
        {
          "output_type": "display_data",
          "data": {
            "image/png": "[encoded data removed]",
            "text/plain": [
              "<Figure size 432x288 with 1 Axes>"
            ]
          },
          "metadata": {
            "tags": []
          }
        }
      ]
    },
    {
      "cell_type": "code",
      "metadata": {
        "colab": {
          "base_uri": "https://localhost:8080/",
          "height": 248
        },
        "id": "15UuZOuJxCau",
        "outputId": "030081be-cd95-4de5-c5e6-0c27af075e35"
      },
      "source": [
        "dfs_from_42 = list(network.dfs_preorder_nodes(network_graph, 42))\n",
        "dfs_from_42=dfs_from_42[:30]\n",
        "subgraph=network_graph.subgraph(dfs_from_42)\n",
        "p=network.spring_layout(subgraph, seed=0)\n",
        "network.draw_networkx(subgraph, pos=p,cmap='coolwarm')"
      ],
      "execution_count": 8,
      "outputs": [
        {
          "output_type": "display_data",
          "data": {
            "image/png": "[encoded data removed]",
            "text/plain": [
              "<Figure size 432x288 with 1 Axes>"
            ]
          },
          "metadata": {
            "tags": []
          }
        }
      ]
    },
    {
      "cell_type": "code",
      "metadata": {
        "colab": {
          "base_uri": "https://localhost:8080/"
        },
        "id": "0IYxvpDV1zUD",
        "outputId": "3a2ad521-806c-426b-ead7-9ffa2d7aebb1"
      },
      "source": [
        "!pip install karateclub"
      ],
      "execution_count": 3,
      "outputs": [
        {
          "output_type": "stream",
          "text": [
            "Collecting karateclub\n",
            "\u001b[?25l  Downloading https://files.pythonhosted.org/packages/49/51/31a237447f5d7eaeb5d174021db336b6a791e6675ec3f957a94045ff6f9a/karateclub-1.1.0.tar.gz (59kB)\n",
            "\u001b[K     |████████████████████████████████| 61kB 2.4MB/s \n",
            "\u001b[?25hRequirement already satisfied: numpy in /usr/local/lib/python3.7/dist-packages (from karateclub) (1.19.5)\n",
            "Requirement already satisfied: networkx in /usr/local/lib/python3.7/dist-packages (from karateclub) (2.5.1)\n",
            "Requirement already satisfied: decorator==4.4.2 in /usr/local/lib/python3.7/dist-packages (from karateclub) (4.4.2)\n",
            "Requirement already satisfied: tqdm in /usr/local/lib/python3.7/dist-packages (from karateclub) (4.41.1)\n",
            "Requirement already satisfied: python-louvain in /usr/local/lib/python3.7/dist-packages (from karateclub) (0.15)\n",
            "Requirement already satisfied: scikit-learn in /usr/local/lib/python3.7/dist-packages (from karateclub) (0.22.2.post1)\n",
            "Requirement already satisfied: scipy in /usr/local/lib/python3.7/dist-packages (from karateclub) (1.4.1)\n",
            "Collecting pygsp\n",
            "\u001b[?25l  Downloading https://files.pythonhosted.org/packages/d4/89/2f4aa73cccf12bec5179ac5d52a68b508120c838b7e5d456f5ea0c8beade/PyGSP-0.5.1-py2.py3-none-any.whl (1.8MB)\n",
            "\u001b[K     |████████████████████████████████| 1.8MB 5.0MB/s \n",
            "\u001b[?25hCollecting gensim>=4.0.0\n",
            "\u001b[?25l  Downloading https://files.pythonhosted.org/packages/44/52/f1417772965652d4ca6f901515debcd9d6c5430969e8c02ee7737e6de61c/gensim-4.0.1-cp37-cp37m-manylinux1_x86_64.whl (23.9MB)\n",
            "\u001b[K     |████████████████████████████████| 23.9MB 125kB/s \n",
            "\u001b[?25hRequirement already satisfied: pandas in /usr/local/lib/python3.7/dist-packages (from karateclub) (1.1.5)\n",
            "Requirement already satisfied: six in /usr/local/lib/python3.7/dist-packages (from karateclub) (1.15.0)\n",
            "Requirement already satisfied: joblib>=0.11 in /usr/local/lib/python3.7/dist-packages (from scikit-learn->karateclub) (1.0.1)\n",
            "Requirement already satisfied: smart-open>=1.8.1 in /usr/local/lib/python3.7/dist-packages (from gensim>=4.0.0->karateclub) (5.1.0)\n",
            "Requirement already satisfied: pytz>=2017.2 in /usr/local/lib/python3.7/dist-packages (from pandas->karateclub) (2018.9)\n",
            "Requirement already satisfied: python-dateutil>=2.7.3 in /usr/local/lib/python3.7/dist-packages (from pandas->karateclub) (2.8.1)\n",
            "Building wheels for collected packages: karateclub\n",
            "  Building wheel for karateclub (setup.py) ... \u001b[?25l\u001b[?25hdone\n",
            "  Created wheel for karateclub: filename=karateclub-1.1.0-cp37-none-any.whl size=94243 sha256=6302054dbb99cf200e0505b9b73e708d2a5fd4a16c91f386a3abc428bf950885\n",
            "  Stored in directory: /root/.cache/pip/wheels/e4/7f/b9/cb6bd89572be748b7ba620970fbd5e19d5729e01b07bc05686\n",
            "Successfully built karateclub\n",
            "Installing collected packages: pygsp, gensim, karateclub\n",
            "  Found existing installation: gensim 3.6.0\n",
            "    Uninstalling gensim-3.6.0:\n",
            "      Successfully uninstalled gensim-3.6.0\n",
            "Successfully installed gensim-4.0.1 karateclub-1.1.0 pygsp-0.5.1\n"
          ],
          "name": "stdout"
        }
      ]
    },
    {
      "cell_type": "markdown",
      "metadata": {
        "id": "4WEgeNa1Jv9X"
      },
      "source": [
        "## random walk"
      ]
    },
    {
      "cell_type": "code",
      "metadata": {
        "id": "8bwP19lNHkr7"
      },
      "source": [
        "from karateclub.utils.walker import RandomWalker\n",
        "walk_len=30\n",
        "walk_num=10\n",
        "random_walk = RandomWalker(walk_len,walk_num)\n",
        "random_walk.do_walks(network_graph)"
      ],
      "execution_count": 63,
      "outputs": []
    },
    {
      "cell_type": "code",
      "metadata": {
        "colab": {
          "base_uri": "https://localhost:8080/"
        },
        "id": "4uBRtkepHkr8",
        "outputId": "347d7a9d-50e6-45de-8d35-b0bebf5dca6b"
      },
      "source": [
        "print(\"No of walks generated =\",len(random_walk.walks))"
      ],
      "execution_count": 64,
      "outputs": [
        {
          "output_type": "stream",
          "text": [
            "No of walks generated = 76240\n"
          ],
          "name": "stdout"
        }
      ]
    },
    {
      "cell_type": "code",
      "metadata": {
        "id": "FBfx0QPtHkr9"
      },
      "source": [
        "X=random_walk.walks"
      ],
      "execution_count": 65,
      "outputs": []
    },
    {
      "cell_type": "code",
      "metadata": {
        "id": "Zz7HYQhYHkr-"
      },
      "source": [
        "from gensim.models.word2vec import Word2Vec\n",
        "learn_rate=0.001\n",
        "latent_dimension=100\n",
        "window_size=5"
      ],
      "execution_count": 66,
      "outputs": []
    },
    {
      "cell_type": "code",
      "metadata": {
        "id": "VBXg3LNFHkr_"
      },
      "source": [
        "WordtoVec=Word2Vec(X,hs=1,sg=1,alpha=learn_rate,vector_size=latent_dimension,window=window_size,min_count=1,workers=4,seed=0)        \n",
        "      "
      ],
      "execution_count": 67,
      "outputs": []
    },
    {
      "cell_type": "code",
      "metadata": {
        "id": "SZ-uuzmGHkr_"
      },
      "source": [
        "node_repre=[]\n",
        "for i in range(len(targets.target)):\n",
        "  node_repre.append(WordtoVec.wv.__getitem__(str(i)))"
      ],
      "execution_count": 68,
      "outputs": []
    },
    {
      "cell_type": "code",
      "metadata": {
        "id": "nCQG58iBHksA"
      },
      "source": [
        "from sklearn.model_selection import train_test_split\n",
        "from sklearn.tree import DecisionTreeClassifier\n",
        "X_train, X_test, y_train, y_test = train_test_split(node_repre, targets.target, test_size=0.2)\n",
        "classifier= DecisionTreeClassifier(random_state=0)\n",
        "classifier.fit(X_train,y_train)\n",
        "y_pred= classifier.predict(X_test) "
      ],
      "execution_count": 69,
      "outputs": []
    },
    {
      "cell_type": "code",
      "metadata": {
        "colab": {
          "base_uri": "https://localhost:8080/"
        },
        "id": "n8SiMTBbHksB",
        "outputId": "b9f8b950-0915-4f29-e101-cc81f376a1cc"
      },
      "source": [
        "from sklearn.metrics import accuracy_score\n",
        "accuracy_score(y_test, y_pred)"
      ],
      "execution_count": 70,
      "outputs": [
        {
          "output_type": "execute_result",
          "data": {
            "text/plain": [
              "0.7337704918032787"
            ]
          },
          "metadata": {
            "tags": []
          },
          "execution_count": 70
        }
      ]
    },
    {
      "cell_type": "code",
      "metadata": {
        "id": "yhgNF8SiVUKo"
      },
      "source": [
        "from tqdm import tqdm\n",
        "import numpy as np\n"
      ],
      "execution_count": 71,
      "outputs": []
    },
    {
      "cell_type": "code",
      "metadata": {
        "colab": {
          "base_uri": "https://localhost:8080/"
        },
        "id": "YP0yJyYqN7t9",
        "outputId": "fe65010d-126d-4345-f873-e44cfc8f59d4"
      },
      "source": [
        "accuracy_random=[]\n",
        "for split in tqdm(np.arange(0.05, 1, 0.05)):\n",
        "  X_train, X_test, y_train, y_test = train_test_split(node_repre, targets.target,train_size=split,random_state=0)\n",
        "  classifier= DecisionTreeClassifier(random_state=0)\n",
        "  classifier.fit(X_train,y_train)\n",
        "  y_pred= classifier.predict(X_test) \n",
        "  accuracy_random.append(accuracy_score(y_test, y_pred))"
      ],
      "execution_count": 72,
      "outputs": [
        {
          "output_type": "stream",
          "text": [
            "100%|██████████| 19/19 [00:14<00:00,  1.27it/s]\n"
          ],
          "name": "stderr"
        }
      ]
    },
    {
      "cell_type": "code",
      "metadata": {
        "id": "CxJXf_ZUHksC"
      },
      "source": [
        ""
      ],
      "execution_count": null,
      "outputs": []
    },
    {
      "cell_type": "markdown",
      "metadata": {
        "id": "RPMhJ7iIJ2cQ"
      },
      "source": [
        "### change of walk length"
      ]
    },
    {
      "cell_type": "code",
      "metadata": {
        "id": "yBs0hv4sNoT3",
        "colab": {
          "base_uri": "https://localhost:8080/"
        },
        "outputId": "b35233a3-f561-4431-b3a9-acfceaa2bec0"
      },
      "source": [
        "from karateclub.utils.walker import RandomWalker\n",
        "accuracy_walklen=[]\n",
        "walk_length_list=[10,20,30,40,50,60,70]"
      ],
      "execution_count": 4,
      "outputs": [
        {
          "output_type": "stream",
          "text": [
            "/usr/local/lib/python3.7/dist-packages/gensim/similarities/__init__.py:15: UserWarning: The gensim.similarities.levenshtein submodule is disabled, because the optional Levenshtein package <https://pypi.org/project/python-Levenshtein/> is unavailable. Install Levenhstein (e.g. `pip install python-Levenshtein`) to suppress this warning.\n",
            "  warnings.warn(msg)\n"
          ],
          "name": "stderr"
        }
      ]
    },
    {
      "cell_type": "code",
      "metadata": {
        "id": "yIJVF1peN7t_"
      },
      "source": [
        "from gensim.models.word2vec import Word2Vec\n",
        "learn_rate=0.001\n",
        "latent_dimension=100\n",
        "window_size=5"
      ],
      "execution_count": 116,
      "outputs": []
    },
    {
      "cell_type": "code",
      "metadata": {
        "id": "ADhb7x3zN7t7",
        "colab": {
          "base_uri": "https://localhost:8080/"
        },
        "outputId": "62c5c7d8-a4a8-4200-8681-62c172d5b39d"
      },
      "source": [
        "for l in range(len(walk_length_list)):\n",
        "  walk_num=10\n",
        "  random_walk = RandomWalker(walk_length_list[l],walk_num)\n",
        "  random_walk.do_walks(network_graph)\n",
        "  X=random_walk.walks\n",
        "  WordtoVec=Word2Vec(X,hs=1,sg=1,alpha=learn_rate,vector_size=latent_dimension,window=window_size,min_count=1,workers=4,seed=0)   \n",
        "  node_repre=[]\n",
        "  for i in range(len(targets.target)):\n",
        "    node_repre.append(WordtoVec.wv.__getitem__(str(i)))\n",
        "  X_train, X_test, y_train, y_test = train_test_split(node_repre, targets.target, test_size=0.2)\n",
        "  classifier= DecisionTreeClassifier(random_state=0)\n",
        "  classifier.fit(X_train,y_train)\n",
        "  y_pred= classifier.predict(X_test) \n",
        "  accuracy_walklen.append(accuracy_score(y_test, y_pred))\n",
        "  print(\"walk length=\",walk_length_list[l] ,\"accuracy=\",accuracy_score(y_test, y_pred))  \n"
      ],
      "execution_count": 117,
      "outputs": [
        {
          "output_type": "stream",
          "text": [
            "walk length= 10 accuracy= 0.41704918032786886\n",
            "walk length= 20 accuracy= 0.6990163934426229\n",
            "walk length= 30 accuracy= 0.7245901639344262\n",
            "walk length= 40 accuracy= 0.7121311475409836\n",
            "walk length= 50 accuracy= 0.7259016393442623\n",
            "walk length= 60 accuracy= 0.7475409836065574\n",
            "walk length= 70 accuracy= 0.7219672131147541\n"
          ],
          "name": "stdout"
        }
      ]
    },
    {
      "cell_type": "code",
      "metadata": {
        "id": "xPlKPkQBdDFL"
      },
      "source": [
        "import numpy as np\n",
        "walk_length_list=np.array(walk_length_list)\n",
        "accuracy_walklen=np.array(accuracy_walklen)"
      ],
      "execution_count": 6,
      "outputs": []
    },
    {
      "cell_type": "code",
      "metadata": {
        "colab": {
          "base_uri": "https://localhost:8080/",
          "height": 296
        },
        "id": "68bnuplBI8qz",
        "outputId": "2f8acff6-8387-4c5b-89f0-a7df712d3153"
      },
      "source": [
        "import seaborn as sns\n",
        "import matplotlib.pyplot as plt\n",
        "\n",
        "sns.lineplot(x=walk_length_list, y =accuracy_walklen, label='change of accuracy')\n",
        "plt.xlabel('walk length')\n",
        "plt.plot()"
      ],
      "execution_count": 7,
      "outputs": [
        {
          "output_type": "execute_result",
          "data": {
            "text/plain": [
              "[]"
            ]
          },
          "metadata": {
            "tags": []
          },
          "execution_count": 7
        },
        {
          "output_type": "display_data",
          "data": {
            "image/png": "[encoded data removed]",
            "text/plain": [
              "<Figure size 432x288 with 1 Axes>"
            ]
          },
          "metadata": {
            "tags": [],
            "needs_background": "light"
          }
        }
      ]
    },
    {
      "cell_type": "markdown",
      "metadata": {
        "id": "TECZvCKKJDtw"
      },
      "source": [
        "## Baised Random walk"
      ]
    },
    {
      "cell_type": "code",
      "metadata": {
        "id": "jyzGCt4dJDty"
      },
      "source": [
        "from karateclub.utils.walker import BiasedRandomWalker\n",
        "walk_len=40\n",
        "walk_num=10\n",
        "p=0.5\n",
        "q=0.25"
      ],
      "execution_count": 34,
      "outputs": []
    },
    {
      "cell_type": "code",
      "metadata": {
        "id": "VMdYupVWJDtz"
      },
      "source": [
        "Baised_random_walk = BiasedRandomWalker(walk_len,walk_num,p,q)\n",
        "Baised_random_walk.do_walks(network_graph)"
      ],
      "execution_count": 35,
      "outputs": []
    },
    {
      "cell_type": "code",
      "metadata": {
        "colab": {
          "base_uri": "https://localhost:8080/"
        },
        "id": "ZXc0Jg0-JDt4",
        "outputId": "5978a9c7-e11b-4b67-a27c-31a86a578ac1"
      },
      "source": [
        "print(\"No of walks generated =\",len(Baised_random_walk.walks))"
      ],
      "execution_count": 36,
      "outputs": [
        {
          "output_type": "stream",
          "text": [
            "No of walks generated = 76240\n"
          ],
          "name": "stdout"
        }
      ]
    },
    {
      "cell_type": "code",
      "metadata": {
        "id": "BIBH0Y5eJDt7"
      },
      "source": [
        "baised_X=X=Baised_random_walk.walks"
      ],
      "execution_count": 37,
      "outputs": []
    },
    {
      "cell_type": "code",
      "metadata": {
        "id": "2a_MM9yxJDt8"
      },
      "source": [
        ""
      ],
      "execution_count": 37,
      "outputs": []
    },
    {
      "cell_type": "code",
      "metadata": {
        "id": "BO0S_4uAJDt9"
      },
      "source": [
        "B_WordtoVec=Word2Vec(baised_X,hs=1,sg=1,alpha=learn_rate,vector_size=latent_dimension,window=window_size,min_count=1,workers=4,seed=0)        "
      ],
      "execution_count": 38,
      "outputs": []
    },
    {
      "cell_type": "code",
      "metadata": {
        "id": "KOw2vgjMJDt-"
      },
      "source": [
        "baised_node_repre=[]\n",
        "for i in range(len(targets.target)):\n",
        "  baised_node_repre.append(WordtoVec.wv.__getitem__(str(i)))"
      ],
      "execution_count": 39,
      "outputs": []
    },
    {
      "cell_type": "code",
      "metadata": {
        "id": "me9e_ufyJDt_"
      },
      "source": [
        "X_train, X_test, y_train, y_test = train_test_split(baised_node_repre, targets.target, test_size=0.2)\n",
        "classifier= DecisionTreeClassifier(random_state=0)\n",
        "classifier.fit(X_train,y_train)\n",
        "y_pred= classifier.predict(X_test) "
      ],
      "execution_count": 40,
      "outputs": []
    },
    {
      "cell_type": "code",
      "metadata": {
        "colab": {
          "base_uri": "https://localhost:8080/"
        },
        "id": "A0vn_XC0JDuA",
        "outputId": "088c63e0-c6da-4391-d7e4-42ad32b1730f"
      },
      "source": [
        "from sklearn.metrics import accuracy_score\n",
        "accuracy_score(y_test, y_pred)"
      ],
      "execution_count": 41,
      "outputs": [
        {
          "output_type": "execute_result",
          "data": {
            "text/plain": [
              "0.7180327868852459"
            ]
          },
          "metadata": {
            "tags": []
          },
          "execution_count": 41
        }
      ]
    },
    {
      "cell_type": "markdown",
      "metadata": {
        "id": "kmfkiXc-SsC7"
      },
      "source": [
        "### Grid Search on  return and Inout parameters"
      ]
    },
    {
      "cell_type": "code",
      "metadata": {
        "id": "PoH1oYlzSsC8"
      },
      "source": [
        "p=[0.5,0.6,0.7]\n",
        "q=[0.15,0.2,0.25,]"
      ],
      "execution_count": 51,
      "outputs": []
    },
    {
      "cell_type": "code",
      "metadata": {
        "colab": {
          "base_uri": "https://localhost:8080/"
        },
        "id": "ZGdUvrG5Suvq",
        "outputId": "3df8e6f1-4b7d-4106-8ced-e3b59de3bcbf"
      },
      "source": [
        "walk_len=40\n",
        "walk_num=10\n",
        "accuracy_baised=[]\n",
        "for i in range(len(p)):\n",
        "  for j in range(len(q)):\n",
        "    Baised_random_walk = BiasedRandomWalker(walk_len,walk_num,p[i],q[j])\n",
        "    Baised_random_walk.do_walks(network_graph)    \n",
        "    baised_X=X=Baised_random_walk.walks\n",
        "    B_WordtoVec=Word2Vec(baised_X,hs=1,sg=1,alpha=learn_rate,vector_size=latent_dimension,window=window_size,min_count=1,workers=4,seed=0)       \n",
        "    baised_node_repre=[]\n",
        "    for x in range(len(targets.target)):\n",
        "      baised_node_repre.append(B_WordtoVec.wv.__getitem__(str(x))) \n",
        "    X_train, X_test, y_train, y_test = train_test_split(baised_node_repre, targets.target, test_size=0.2,random_state=0)\n",
        "    classifier= DecisionTreeClassifier(random_state=0)\n",
        "    classifier.fit(X_train,y_train)\n",
        "    y_pred= classifier.predict(X_test)\n",
        "    accuracy_baised.append(accuracy_score(y_test, y_pred))\n",
        "    print(\"p=\",p[i],\" q=\",q[j],\" accuracy=\",accuracy_score(y_test, y_pred))\n",
        "    \n",
        "\n",
        "\n",
        "\n"
      ],
      "execution_count": 52,
      "outputs": [
        {
          "output_type": "stream",
          "text": [
            "p= 0.5  q= 0.15  accuracy= 0.7390163934426229\n",
            "p= 0.5  q= 0.2  accuracy= 0.7344262295081967\n",
            "p= 0.5  q= 0.25  accuracy= 0.7298360655737705\n",
            "p= 0.6  q= 0.15  accuracy= 0.7232786885245902\n",
            "p= 0.6  q= 0.2  accuracy= 0.7344262295081967\n",
            "p= 0.6  q= 0.25  accuracy= 0.7383606557377049\n",
            "p= 0.7  q= 0.15  accuracy= 0.7350819672131148\n",
            "p= 0.7  q= 0.2  accuracy= 0.7324590163934426\n",
            "p= 0.7  q= 0.25  accuracy= 0.7291803278688525\n"
          ],
          "name": "stdout"
        }
      ]
    },
    {
      "cell_type": "markdown",
      "metadata": {
        "id": "dmom3TVh0C_t"
      },
      "source": [
        "### best model of grid search"
      ]
    },
    {
      "cell_type": "code",
      "metadata": {
        "id": "9Nc0yG_lagMg"
      },
      "source": [
        "pp=0.5\n",
        "qp=0.15"
      ],
      "execution_count": 104,
      "outputs": []
    },
    {
      "cell_type": "code",
      "metadata": {
        "id": "fAP5Ijo0SsC9"
      },
      "source": [
        "Baised_random_walk = BiasedRandomWalker(walk_len,walk_num,pp,qp)\n",
        "Baised_random_walk.do_walks(network_graph)"
      ],
      "execution_count": 105,
      "outputs": []
    },
    {
      "cell_type": "code",
      "metadata": {
        "colab": {
          "base_uri": "https://localhost:8080/"
        },
        "id": "rkBrJXhwSsC-",
        "outputId": "5fb78b9e-aa43-4170-b09d-04e20a99338f"
      },
      "source": [
        "print(\"No of walks generated =\",len(Baised_random_walk.walks))"
      ],
      "execution_count": 106,
      "outputs": [
        {
          "output_type": "stream",
          "text": [
            "No of walks generated = 76240\n"
          ],
          "name": "stdout"
        }
      ]
    },
    {
      "cell_type": "code",
      "metadata": {
        "id": "6ImW_-rfSsDA"
      },
      "source": [
        "baised_X=X=Baised_random_walk.walks"
      ],
      "execution_count": 107,
      "outputs": []
    },
    {
      "cell_type": "code",
      "metadata": {
        "id": "lF_u6KQYSsDA"
      },
      "source": [
        ""
      ],
      "execution_count": 107,
      "outputs": []
    },
    {
      "cell_type": "code",
      "metadata": {
        "id": "AQar6jI_SsDB"
      },
      "source": [
        "B_WordtoVec=Word2Vec(baised_X,hs=1,sg=1,alpha=learn_rate,vector_size=latent_dimension,window=window_size,min_count=1,workers=4,seed=0)        "
      ],
      "execution_count": 108,
      "outputs": []
    },
    {
      "cell_type": "code",
      "metadata": {
        "id": "o2UOhb5GSsDB"
      },
      "source": [
        "baised_node_repre=[]\n",
        "for i in range(len(targets.target)):\n",
        "  baised_node_repre.append(B_WordtoVec.wv.__getitem__(str(i)))"
      ],
      "execution_count": 109,
      "outputs": []
    },
    {
      "cell_type": "code",
      "metadata": {
        "id": "A2zmL5oxSsDC"
      },
      "source": [
        "X_train, X_test, y_train, y_test = train_test_split(baised_node_repre, targets.target, test_size=0.2)\n",
        "classifier= DecisionTreeClassifier(random_state=0)\n",
        "classifier.fit(X_train,y_train)\n",
        "y_pred= classifier.predict(X_test) "
      ],
      "execution_count": 110,
      "outputs": []
    },
    {
      "cell_type": "code",
      "metadata": {
        "colab": {
          "base_uri": "https://localhost:8080/"
        },
        "id": "A7_QuG5tSsDD",
        "outputId": "83ba8816-7b96-4478-affc-cc7ab5bd1a82"
      },
      "source": [
        "from sklearn.metrics import accuracy_score\n",
        "accuracy_score(y_test, y_pred)"
      ],
      "execution_count": 111,
      "outputs": [
        {
          "output_type": "execute_result",
          "data": {
            "text/plain": [
              "0.740983606557377"
            ]
          },
          "metadata": {
            "tags": []
          },
          "execution_count": 111
        }
      ]
    },
    {
      "cell_type": "code",
      "metadata": {
        "colab": {
          "base_uri": "https://localhost:8080/"
        },
        "id": "R_FaoxmuWKHE",
        "outputId": "2c386b04-b994-4391-be9f-86a827ae71a0"
      },
      "source": [
        "accuracy_baisedrandom=[]\n",
        "for split in tqdm(np.arange(0.05, 1, 0.05)):\n",
        "  X_train, X_test, y_train, y_test = train_test_split(baised_node_repre, targets.target,train_size=split,random_state=0)\n",
        "  classifier= DecisionTreeClassifier(random_state=0)\n",
        "  classifier.fit(X_train,y_train)\n",
        "  y_pred= classifier.predict(X_test) \n",
        "  accuracy_baisedrandom.append(accuracy_score(y_test, y_pred))"
      ],
      "execution_count": 112,
      "outputs": [
        {
          "output_type": "stream",
          "text": [
            "100%|██████████| 19/19 [00:16<00:00,  1.15it/s]\n"
          ],
          "name": "stderr"
        }
      ]
    },
    {
      "cell_type": "markdown",
      "metadata": {
        "id": "D70bPcVg0SmH"
      },
      "source": [
        "## Comparing Baised and random"
      ]
    },
    {
      "cell_type": "code",
      "metadata": {
        "colab": {
          "base_uri": "https://localhost:8080/",
          "height": 297
        },
        "id": "z7yDVW7PWRNP",
        "outputId": "248b06e0-597d-4727-f615-fc90b0cbddaa"
      },
      "source": [
        "sns.lineplot(x = np.arange(0.05 ,1, 0.05), y = accuracy_random,label='Random Walk')\n",
        "sns.lineplot(x = np.arange(0.05, 1, 0.05), y = accuracy_baisedrandom,label='Baised Random Walk')\n",
        "plt.xlabel('train_size')\n",
        "plt.plot()"
      ],
      "execution_count": 114,
      "outputs": [
        {
          "output_type": "execute_result",
          "data": {
            "text/plain": [
              "[]"
            ]
          },
          "metadata": {
            "tags": []
          },
          "execution_count": 114
        },
        {
          "output_type": "display_data",
          "data": {
            "image/png": "[encoded data removed]",
            "text/plain": [
              "<Figure size 432x288 with 1 Axes>"
            ]
          },
          "metadata": {
            "tags": [],
            "needs_background": "light"
          }
        }
      ]
    },
    {
      "cell_type": "code",
      "metadata": {
        "id": "5YVv5Po0W1HX"
      },
      "source": [
        ""
      ],
      "execution_count": 90,
      "outputs": []
    }
  ]
}